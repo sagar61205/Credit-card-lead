{
 "cells": [
  {
   "cell_type": "code",
   "execution_count": 39,
   "metadata": {},
   "outputs": [],
   "source": [
    "import pandas as pd\n",
    "import numpy as np\n",
    "from matplotlib import pyplot as plt\n",
    "import seaborn as sns"
   ]
  },
  {
   "cell_type": "code",
   "execution_count": 40,
   "metadata": {
    "scrolled": true
   },
   "outputs": [
    {
     "data": {
      "text/html": [
       "<div>\n",
       "<style scoped>\n",
       "    .dataframe tbody tr th:only-of-type {\n",
       "        vertical-align: middle;\n",
       "    }\n",
       "\n",
       "    .dataframe tbody tr th {\n",
       "        vertical-align: top;\n",
       "    }\n",
       "\n",
       "    .dataframe thead th {\n",
       "        text-align: right;\n",
       "    }\n",
       "</style>\n",
       "<table border=\"1\" class=\"dataframe\">\n",
       "  <thead>\n",
       "    <tr style=\"text-align: right;\">\n",
       "      <th></th>\n",
       "      <th>ID</th>\n",
       "      <th>Gender</th>\n",
       "      <th>Age</th>\n",
       "      <th>Region_Code</th>\n",
       "      <th>Occupation</th>\n",
       "      <th>Channel_Code</th>\n",
       "      <th>Vintage</th>\n",
       "      <th>Credit_Product</th>\n",
       "      <th>Avg_Account_Balance</th>\n",
       "      <th>Is_Active</th>\n",
       "      <th>Is_Lead</th>\n",
       "    </tr>\n",
       "  </thead>\n",
       "  <tbody>\n",
       "    <tr>\n",
       "      <th>245720</th>\n",
       "      <td>BPAWWXZN</td>\n",
       "      <td>Male</td>\n",
       "      <td>51</td>\n",
       "      <td>RG284</td>\n",
       "      <td>Self_Employed</td>\n",
       "      <td>X3</td>\n",
       "      <td>109</td>\n",
       "      <td>NaN</td>\n",
       "      <td>1925586</td>\n",
       "      <td>No</td>\n",
       "      <td>0</td>\n",
       "    </tr>\n",
       "    <tr>\n",
       "      <th>245721</th>\n",
       "      <td>HFNB7JY8</td>\n",
       "      <td>Male</td>\n",
       "      <td>27</td>\n",
       "      <td>RG268</td>\n",
       "      <td>Salaried</td>\n",
       "      <td>X1</td>\n",
       "      <td>15</td>\n",
       "      <td>No</td>\n",
       "      <td>862952</td>\n",
       "      <td>Yes</td>\n",
       "      <td>0</td>\n",
       "    </tr>\n",
       "    <tr>\n",
       "      <th>245722</th>\n",
       "      <td>GEHAUCWT</td>\n",
       "      <td>Female</td>\n",
       "      <td>26</td>\n",
       "      <td>RG281</td>\n",
       "      <td>Salaried</td>\n",
       "      <td>X1</td>\n",
       "      <td>13</td>\n",
       "      <td>No</td>\n",
       "      <td>670659</td>\n",
       "      <td>No</td>\n",
       "      <td>0</td>\n",
       "    </tr>\n",
       "    <tr>\n",
       "      <th>245723</th>\n",
       "      <td>GE7V8SAH</td>\n",
       "      <td>Female</td>\n",
       "      <td>28</td>\n",
       "      <td>RG273</td>\n",
       "      <td>Salaried</td>\n",
       "      <td>X1</td>\n",
       "      <td>31</td>\n",
       "      <td>No</td>\n",
       "      <td>407504</td>\n",
       "      <td>No</td>\n",
       "      <td>0</td>\n",
       "    </tr>\n",
       "    <tr>\n",
       "      <th>245724</th>\n",
       "      <td>BOCZSWLJ</td>\n",
       "      <td>Male</td>\n",
       "      <td>29</td>\n",
       "      <td>RG269</td>\n",
       "      <td>Salaried</td>\n",
       "      <td>X1</td>\n",
       "      <td>21</td>\n",
       "      <td>No</td>\n",
       "      <td>1129276</td>\n",
       "      <td>No</td>\n",
       "      <td>0</td>\n",
       "    </tr>\n",
       "  </tbody>\n",
       "</table>\n",
       "</div>"
      ],
      "text/plain": [
       "              ID  Gender  Age Region_Code     Occupation Channel_Code  \\\n",
       "245720  BPAWWXZN    Male   51       RG284  Self_Employed           X3   \n",
       "245721  HFNB7JY8    Male   27       RG268       Salaried           X1   \n",
       "245722  GEHAUCWT  Female   26       RG281       Salaried           X1   \n",
       "245723  GE7V8SAH  Female   28       RG273       Salaried           X1   \n",
       "245724  BOCZSWLJ    Male   29       RG269       Salaried           X1   \n",
       "\n",
       "        Vintage Credit_Product  Avg_Account_Balance Is_Active  Is_Lead  \n",
       "245720      109            NaN              1925586        No        0  \n",
       "245721       15             No               862952       Yes        0  \n",
       "245722       13             No               670659        No        0  \n",
       "245723       31             No               407504        No        0  \n",
       "245724       21             No              1129276        No        0  "
      ]
     },
     "execution_count": 40,
     "metadata": {},
     "output_type": "execute_result"
    }
   ],
   "source": [
    "train = pd.read_csv('train.csv')\n",
    "train.tail()"
   ]
  },
  {
   "cell_type": "code",
   "execution_count": 16,
   "metadata": {},
   "outputs": [
    {
     "data": {
      "text/plain": [
       "(245725, 11)"
      ]
     },
     "execution_count": 16,
     "metadata": {},
     "output_type": "execute_result"
    }
   ],
   "source": [
    "train.shape"
   ]
  },
  {
   "cell_type": "code",
   "execution_count": 21,
   "metadata": {},
   "outputs": [
    {
     "data": {
      "text/plain": [
       "ID                         0\n",
       "Gender                     0\n",
       "Age                        0\n",
       "Region_Code                0\n",
       "Occupation                 0\n",
       "Channel_Code               0\n",
       "Vintage                    0\n",
       "Credit_Product         29325\n",
       "Avg_Account_Balance        0\n",
       "Is_Active                  0\n",
       "Is_Lead                    0\n",
       "dtype: int64"
      ]
     },
     "execution_count": 21,
     "metadata": {},
     "output_type": "execute_result"
    }
   ],
   "source": [
    "train.isnull().sum()"
   ]
  },
  {
   "cell_type": "code",
   "execution_count": 35,
   "metadata": {},
   "outputs": [
    {
     "data": {
      "text/plain": [
       "array(['No', nan, 'Yes'], dtype=object)"
      ]
     },
     "execution_count": 35,
     "metadata": {},
     "output_type": "execute_result"
    }
   ],
   "source": [
    "train['Credit_Product'].unique()"
   ]
  },
  {
   "cell_type": "code",
   "execution_count": 36,
   "metadata": {},
   "outputs": [
    {
     "data": {
      "text/plain": [
       "No     144357\n",
       "Yes     72043\n",
       "Name: Credit_Product, dtype: int64"
      ]
     },
     "execution_count": 36,
     "metadata": {},
     "output_type": "execute_result"
    }
   ],
   "source": [
    "train['Credit_Product'].value_counts()"
   ]
  },
  {
   "cell_type": "markdown",
   "metadata": {},
   "source": [
    "#### We can clearly see that only 11% values are missing and that too in just one feature. and 'No' values ar already high.\n",
    "#### Therefore, we can just replace these values by 'Yes' to balance the data."
   ]
  },
  {
   "cell_type": "code",
   "execution_count": 98,
   "metadata": {},
   "outputs": [],
   "source": [
    "train['Credit_Product'].replace(np.nan,'Yes',inplace=True)"
   ]
  },
  {
   "cell_type": "code",
   "execution_count": 99,
   "metadata": {},
   "outputs": [
    {
     "data": {
      "text/plain": [
       "ID                     0\n",
       "Gender                 0\n",
       "Age                    0\n",
       "Region_Code            0\n",
       "Occupation             0\n",
       "Channel_Code           0\n",
       "Vintage                0\n",
       "Credit_Product         0\n",
       "Avg_Account_Balance    0\n",
       "Is_Active              0\n",
       "Is_Lead                0\n",
       "dtype: int64"
      ]
     },
     "execution_count": 99,
     "metadata": {},
     "output_type": "execute_result"
    }
   ],
   "source": [
    "train.isnull().sum()"
   ]
  },
  {
   "cell_type": "code",
   "execution_count": 35,
   "metadata": {},
   "outputs": [
    {
     "name": "stdout",
     "output_type": "stream",
     "text": [
      " Categories for Gender are: ['Female' 'Male'] and number of categories are 2 \n",
      "\n",
      " Categories for Region_Code are: ['RG268' 'RG277' 'RG270' 'RG282' 'RG261' 'RG265' 'RG283' 'RG254' 'RG269'\n",
      " 'RG257' 'RG279' 'RG280' 'RG252' 'RG284' 'RG259' 'RG281' 'RG258' 'RG266'\n",
      " 'RG260' 'RG274' 'RG256' 'RG275' 'RG273' 'RG267' 'RG272' 'RG251' 'RG262'\n",
      " 'RG264' 'RG278' 'RG276' 'RG263' 'RG250' 'RG255' 'RG253' 'RG271'] and number of categories are 35 \n",
      "\n",
      " Categories for Occupation are: ['Other' 'Salaried' 'Self_Employed' 'Entrepreneur'] and number of categories are 4 \n",
      "\n",
      " Categories for Channel_Code are: ['X3' 'X1' 'X2' 'X4'] and number of categories are 4 \n",
      "\n",
      " Categories for Credit_Product are: ['No' nan 'Yes'] and number of categories are 3 \n",
      "\n",
      " Categories for Is_Active are: ['No' 'Yes'] and number of categories are 2 \n",
      "\n"
     ]
    }
   ],
   "source": [
    "for feature in train[['Gender','Region_Code','Occupation','Channel_Code','Credit_Product','Is_Active']]:\n",
    "    categories = train[feature].unique()\n",
    "    count = len(train[feature].unique())\n",
    "    print(f' Categories for {feature} are: {categories} and number of categories are {count} \\n')"
   ]
  },
  {
   "cell_type": "markdown",
   "metadata": {},
   "source": [
    "#### Encoding categorical values for the fetaure'Credit product' frst as it has null values.:"
   ]
  },
  {
   "cell_type": "code",
   "execution_count": 100,
   "metadata": {},
   "outputs": [],
   "source": [
    "train['Credit_Product'] = train['Credit_Product'].map({'Yes':1,'No':0})"
   ]
  },
  {
   "cell_type": "code",
   "execution_count": 101,
   "metadata": {},
   "outputs": [
    {
     "data": {
      "text/html": [
       "<div>\n",
       "<style scoped>\n",
       "    .dataframe tbody tr th:only-of-type {\n",
       "        vertical-align: middle;\n",
       "    }\n",
       "\n",
       "    .dataframe tbody tr th {\n",
       "        vertical-align: top;\n",
       "    }\n",
       "\n",
       "    .dataframe thead th {\n",
       "        text-align: right;\n",
       "    }\n",
       "</style>\n",
       "<table border=\"1\" class=\"dataframe\">\n",
       "  <thead>\n",
       "    <tr style=\"text-align: right;\">\n",
       "      <th></th>\n",
       "      <th>ID</th>\n",
       "      <th>Gender</th>\n",
       "      <th>Age</th>\n",
       "      <th>Region_Code</th>\n",
       "      <th>Occupation</th>\n",
       "      <th>Channel_Code</th>\n",
       "      <th>Vintage</th>\n",
       "      <th>Credit_Product</th>\n",
       "      <th>Avg_Account_Balance</th>\n",
       "      <th>Is_Active</th>\n",
       "      <th>Is_Lead</th>\n",
       "    </tr>\n",
       "  </thead>\n",
       "  <tbody>\n",
       "    <tr>\n",
       "      <th>245720</th>\n",
       "      <td>BPAWWXZN</td>\n",
       "      <td>1</td>\n",
       "      <td>51</td>\n",
       "      <td>34</td>\n",
       "      <td>3</td>\n",
       "      <td>2</td>\n",
       "      <td>109</td>\n",
       "      <td>1</td>\n",
       "      <td>1925586</td>\n",
       "      <td>0</td>\n",
       "      <td>0</td>\n",
       "    </tr>\n",
       "    <tr>\n",
       "      <th>245721</th>\n",
       "      <td>HFNB7JY8</td>\n",
       "      <td>1</td>\n",
       "      <td>27</td>\n",
       "      <td>18</td>\n",
       "      <td>2</td>\n",
       "      <td>0</td>\n",
       "      <td>15</td>\n",
       "      <td>0</td>\n",
       "      <td>862952</td>\n",
       "      <td>1</td>\n",
       "      <td>0</td>\n",
       "    </tr>\n",
       "    <tr>\n",
       "      <th>245722</th>\n",
       "      <td>GEHAUCWT</td>\n",
       "      <td>0</td>\n",
       "      <td>26</td>\n",
       "      <td>31</td>\n",
       "      <td>2</td>\n",
       "      <td>0</td>\n",
       "      <td>13</td>\n",
       "      <td>0</td>\n",
       "      <td>670659</td>\n",
       "      <td>0</td>\n",
       "      <td>0</td>\n",
       "    </tr>\n",
       "    <tr>\n",
       "      <th>245723</th>\n",
       "      <td>GE7V8SAH</td>\n",
       "      <td>0</td>\n",
       "      <td>28</td>\n",
       "      <td>23</td>\n",
       "      <td>2</td>\n",
       "      <td>0</td>\n",
       "      <td>31</td>\n",
       "      <td>0</td>\n",
       "      <td>407504</td>\n",
       "      <td>0</td>\n",
       "      <td>0</td>\n",
       "    </tr>\n",
       "    <tr>\n",
       "      <th>245724</th>\n",
       "      <td>BOCZSWLJ</td>\n",
       "      <td>1</td>\n",
       "      <td>29</td>\n",
       "      <td>19</td>\n",
       "      <td>2</td>\n",
       "      <td>0</td>\n",
       "      <td>21</td>\n",
       "      <td>0</td>\n",
       "      <td>1129276</td>\n",
       "      <td>0</td>\n",
       "      <td>0</td>\n",
       "    </tr>\n",
       "  </tbody>\n",
       "</table>\n",
       "</div>"
      ],
      "text/plain": [
       "              ID  Gender  Age  Region_Code  Occupation  Channel_Code  Vintage  \\\n",
       "245720  BPAWWXZN       1   51           34           3             2      109   \n",
       "245721  HFNB7JY8       1   27           18           2             0       15   \n",
       "245722  GEHAUCWT       0   26           31           2             0       13   \n",
       "245723  GE7V8SAH       0   28           23           2             0       31   \n",
       "245724  BOCZSWLJ       1   29           19           2             0       21   \n",
       "\n",
       "        Credit_Product  Avg_Account_Balance  Is_Active  Is_Lead  \n",
       "245720               1              1925586          0        0  \n",
       "245721               0               862952          1        0  \n",
       "245722               0               670659          0        0  \n",
       "245723               0               407504          0        0  \n",
       "245724               0              1129276          0        0  "
      ]
     },
     "execution_count": 101,
     "metadata": {},
     "output_type": "execute_result"
    }
   ],
   "source": [
    "train.tail()"
   ]
  },
  {
   "cell_type": "code",
   "execution_count": null,
   "metadata": {},
   "outputs": [],
   "source": []
  },
  {
   "cell_type": "markdown",
   "metadata": {},
   "source": [
    "#### Now, we will convert categorical features to numbers depending upon the feature data:\n",
    "#### We will convert the features 'Gender', 'Is_Active' ,'Region code, 'Channel code' and 'Occupation' using label encoder."
   ]
  },
  {
   "cell_type": "code",
   "execution_count": 102,
   "metadata": {},
   "outputs": [],
   "source": [
    "from sklearn.preprocessing import LabelEncoder\n",
    "lben = LabelEncoder()\n",
    "columns = ['Gender','Is_Active','Region_Code','Channel_Code','Occupation']\n",
    "for feature in columns:\n",
    "    train[feature] = lben.fit_transform(train[feature])"
   ]
  },
  {
   "cell_type": "code",
   "execution_count": 103,
   "metadata": {},
   "outputs": [
    {
     "data": {
      "text/html": [
       "<div>\n",
       "<style scoped>\n",
       "    .dataframe tbody tr th:only-of-type {\n",
       "        vertical-align: middle;\n",
       "    }\n",
       "\n",
       "    .dataframe tbody tr th {\n",
       "        vertical-align: top;\n",
       "    }\n",
       "\n",
       "    .dataframe thead th {\n",
       "        text-align: right;\n",
       "    }\n",
       "</style>\n",
       "<table border=\"1\" class=\"dataframe\">\n",
       "  <thead>\n",
       "    <tr style=\"text-align: right;\">\n",
       "      <th></th>\n",
       "      <th>ID</th>\n",
       "      <th>Gender</th>\n",
       "      <th>Age</th>\n",
       "      <th>Region_Code</th>\n",
       "      <th>Occupation</th>\n",
       "      <th>Channel_Code</th>\n",
       "      <th>Vintage</th>\n",
       "      <th>Credit_Product</th>\n",
       "      <th>Avg_Account_Balance</th>\n",
       "      <th>Is_Active</th>\n",
       "      <th>Is_Lead</th>\n",
       "    </tr>\n",
       "  </thead>\n",
       "  <tbody>\n",
       "    <tr>\n",
       "      <th>0</th>\n",
       "      <td>NNVBBKZB</td>\n",
       "      <td>0</td>\n",
       "      <td>73</td>\n",
       "      <td>18</td>\n",
       "      <td>1</td>\n",
       "      <td>2</td>\n",
       "      <td>43</td>\n",
       "      <td>0</td>\n",
       "      <td>1045696</td>\n",
       "      <td>0</td>\n",
       "      <td>0</td>\n",
       "    </tr>\n",
       "    <tr>\n",
       "      <th>1</th>\n",
       "      <td>IDD62UNG</td>\n",
       "      <td>0</td>\n",
       "      <td>30</td>\n",
       "      <td>27</td>\n",
       "      <td>2</td>\n",
       "      <td>0</td>\n",
       "      <td>32</td>\n",
       "      <td>0</td>\n",
       "      <td>581988</td>\n",
       "      <td>0</td>\n",
       "      <td>0</td>\n",
       "    </tr>\n",
       "    <tr>\n",
       "      <th>2</th>\n",
       "      <td>HD3DSEMC</td>\n",
       "      <td>0</td>\n",
       "      <td>56</td>\n",
       "      <td>18</td>\n",
       "      <td>3</td>\n",
       "      <td>2</td>\n",
       "      <td>26</td>\n",
       "      <td>0</td>\n",
       "      <td>1484315</td>\n",
       "      <td>1</td>\n",
       "      <td>0</td>\n",
       "    </tr>\n",
       "    <tr>\n",
       "      <th>3</th>\n",
       "      <td>BF3NC7KV</td>\n",
       "      <td>1</td>\n",
       "      <td>34</td>\n",
       "      <td>20</td>\n",
       "      <td>2</td>\n",
       "      <td>0</td>\n",
       "      <td>19</td>\n",
       "      <td>0</td>\n",
       "      <td>470454</td>\n",
       "      <td>0</td>\n",
       "      <td>0</td>\n",
       "    </tr>\n",
       "    <tr>\n",
       "      <th>4</th>\n",
       "      <td>TEASRWXV</td>\n",
       "      <td>0</td>\n",
       "      <td>30</td>\n",
       "      <td>32</td>\n",
       "      <td>2</td>\n",
       "      <td>0</td>\n",
       "      <td>33</td>\n",
       "      <td>0</td>\n",
       "      <td>886787</td>\n",
       "      <td>0</td>\n",
       "      <td>0</td>\n",
       "    </tr>\n",
       "  </tbody>\n",
       "</table>\n",
       "</div>"
      ],
      "text/plain": [
       "         ID  Gender  Age  Region_Code  Occupation  Channel_Code  Vintage  \\\n",
       "0  NNVBBKZB       0   73           18           1             2       43   \n",
       "1  IDD62UNG       0   30           27           2             0       32   \n",
       "2  HD3DSEMC       0   56           18           3             2       26   \n",
       "3  BF3NC7KV       1   34           20           2             0       19   \n",
       "4  TEASRWXV       0   30           32           2             0       33   \n",
       "\n",
       "   Credit_Product  Avg_Account_Balance  Is_Active  Is_Lead  \n",
       "0               0              1045696          0        0  \n",
       "1               0               581988          0        0  \n",
       "2               0              1484315          1        0  \n",
       "3               0               470454          0        0  \n",
       "4               0               886787          0        0  "
      ]
     },
     "execution_count": 103,
     "metadata": {},
     "output_type": "execute_result"
    }
   ],
   "source": [
    "train.head()"
   ]
  },
  {
   "cell_type": "markdown",
   "metadata": {},
   "source": [
    "#### Now all the categorical features have been changed to numerals. We can move forward with scaling the date set."
   ]
  },
  {
   "cell_type": "markdown",
   "metadata": {},
   "source": [
    "#### we will now check our data for various distributions, we will use a few features as most fetaures have 0 and 1 values\n",
    "#### and other have discrete values ranging from 0 to 3."
   ]
  },
  {
   "cell_type": "code",
   "execution_count": 88,
   "metadata": {},
   "outputs": [
    {
     "data": {
      "image/png": "[encoded data removed]",
      "text/plain": [
       "<Figure size 576x576 with 4 Axes>"
      ]
     },
     "metadata": {
      "needs_background": "light"
     },
     "output_type": "display_data"
    }
   ],
   "source": [
    "columns = ['Age','Vintage','Avg_Account_Balance','Region_Code']\n",
    "plt.figure(figsize=(8,8))\n",
    "plotnumber=1\n",
    "for feature in columns:\n",
    "    ax = plt.subplot(2,2,plotnumber)\n",
    "    sns.distplot(train[feature])\n",
    "    plt.xlabel(feature)\n",
    "    plotnumber+=1\n",
    "plt.tight_layout()"
   ]
  },
  {
   "cell_type": "markdown",
   "metadata": {},
   "source": [
    "#### All the above plots can be considered as having left sklewed distributions except for 'Region_Code'  We can work with log transformation for the same."
   ]
  },
  {
   "cell_type": "code",
   "execution_count": 64,
   "metadata": {},
   "outputs": [],
   "source": [
    "# Copying the dataset to work with various transformations:\n",
    "data_1 = train.copy()\n",
    "data_2 = train.copy()\n",
    "data_3 = train.copy()"
   ]
  },
  {
   "cell_type": "code",
   "execution_count": 58,
   "metadata": {},
   "outputs": [
    {
     "data": {
      "image/png": "[encoded data removed]",
      "text/plain": [
       "<Figure size 576x576 with 3 Axes>"
      ]
     },
     "metadata": {
      "needs_background": "light"
     },
     "output_type": "display_data"
    }
   ],
   "source": [
    "# Checking with log transformation:\n",
    "columns = ['Age','Vintage','Avg_Account_Balance']\n",
    "plt.figure(figsize=(8,8))\n",
    "plotnumber=1\n",
    "for feature in columns:\n",
    "    ax = plt.subplot(3,1,plotnumber)\n",
    "    data_1[feature] = np.log(data_1[feature])\n",
    "    sns.distplot(data_1[feature])\n",
    "    plt.xlabel(feature)\n",
    "    plotnumber+=1\n",
    "plt.tight_layout()"
   ]
  },
  {
   "cell_type": "markdown",
   "metadata": {},
   "source": [
    "####  As we can see that feature 'Avg_account_balance' has been tramsformed into a nice normal distribution whereas Vintage' has been distorted. 'Age' has also been distorted a but not as much as 'Vintage'."
   ]
  },
  {
   "cell_type": "code",
   "execution_count": 65,
   "metadata": {},
   "outputs": [
    {
     "data": {
      "image/png": "[encoded data removed]",
      "text/plain": [
       "<Figure size 576x576 with 3 Axes>"
      ]
     },
     "metadata": {
      "needs_background": "light"
     },
     "output_type": "display_data"
    }
   ],
   "source": [
    "# Checking with square root transformation:\n",
    "columns = ['Age','Vintage','Avg_Account_Balance']\n",
    "plt.figure(figsize=(8,8))\n",
    "plotnumber=1\n",
    "for feature in columns:\n",
    "    ax = plt.subplot(3,1,plotnumber)\n",
    "    data_2[feature] = np.sqrt(data_2[feature])\n",
    "    sns.distplot(data_2[feature])\n",
    "    plt.xlabel(feature)\n",
    "    plotnumber+=1\n",
    "plt.tight_layout()"
   ]
  },
  {
   "cell_type": "code",
   "execution_count": 66,
   "metadata": {},
   "outputs": [
    {
     "data": {
      "image/png": "[encoded data removed]",
      "text/plain": [
       "<Figure size 576x576 with 3 Axes>"
      ]
     },
     "metadata": {
      "needs_background": "light"
     },
     "output_type": "display_data"
    }
   ],
   "source": [
    "# Checking with Exponential transformation\n",
    "columns = ['Age','Vintage','Avg_Account_Balance']\n",
    "plt.figure(figsize=(8,8))\n",
    "plotnumber=1\n",
    "for feature in columns:\n",
    "    ax = plt.subplot(3,1,plotnumber)\n",
    "    data_3[feature] = data_3[feature]**(1/2)\n",
    "    sns.distplot(data_3[feature])\n",
    "    plt.xlabel(feature)\n",
    "    plotnumber+=1\n",
    "plt.tight_layout()"
   ]
  },
  {
   "cell_type": "markdown",
   "metadata": {},
   "source": [
    "#### As we can see in all the above distributions, 'Age' and 'Vintage' has poor plots as compared to orginal distributions.\n",
    "#### therefore, we will not use any of the above transformations for these two features and will use the original data.\n",
    "#### For \"Avg_account_balance\". log transformation is working the best as it id giving a smooth Gaussian distribution.\n",
    "#### Aslo, we wil not use Satndardisation/Normalization which I have already tried in the previous submissions because SVC and KNN take and unreasonably longer time and Logistric regression provide a very low ROC_AUC score. So, we will go with the original data and log transformation of \"Avg_account_balance' as the algorithms XgBoost and LighGBM do not require scaling."
   ]
  },
  {
   "cell_type": "code",
   "execution_count": 104,
   "metadata": {},
   "outputs": [],
   "source": [
    "# Label saperation\n",
    "X = train.drop(columns=['ID','Is_Lead'],axis=1)\n",
    "y = train['Is_Lead']"
   ]
  },
  {
   "cell_type": "code",
   "execution_count": 105,
   "metadata": {},
   "outputs": [
    {
     "data": {
      "image/png": "[encoded data removed]",
      "text/plain": [
       "<Figure size 432x288 with 1 Axes>"
      ]
     },
     "metadata": {
      "needs_background": "light"
     },
     "output_type": "display_data"
    }
   ],
   "source": [
    "# Checking if the datset is balanced or imbalanced:\n",
    "sns.countplot(y)\n",
    "plt.show()"
   ]
  },
  {
   "cell_type": "code",
   "execution_count": 106,
   "metadata": {},
   "outputs": [],
   "source": [
    "# As we can see that the data in the feature 'Is_Lead' is completely imbalanced.\n",
    "from tensorflow import keras\n",
    "from imblearn.over_sampling import RandomOverSampler"
   ]
  },
  {
   "cell_type": "code",
   "execution_count": 107,
   "metadata": {},
   "outputs": [],
   "source": [
    "sample = RandomOverSampler()\n",
    "X_sampled,y_sampled = sample.fit_sample(X,y)"
   ]
  },
  {
   "cell_type": "code",
   "execution_count": 108,
   "metadata": {},
   "outputs": [
    {
     "data": {
      "text/plain": [
       "(374874, 9)"
      ]
     },
     "execution_count": 108,
     "metadata": {},
     "output_type": "execute_result"
    }
   ],
   "source": [
    "X_sampled.shape"
   ]
  },
  {
   "cell_type": "code",
   "execution_count": 109,
   "metadata": {},
   "outputs": [
    {
     "data": {
      "text/plain": [
       "(374874,)"
      ]
     },
     "execution_count": 109,
     "metadata": {},
     "output_type": "execute_result"
    }
   ],
   "source": [
    "y_sampled.shape"
   ]
  },
  {
   "cell_type": "code",
   "execution_count": 110,
   "metadata": {},
   "outputs": [
    {
     "data": {
      "text/plain": [
       "<matplotlib.axes._subplots.AxesSubplot at 0x2193f3f3c40>"
      ]
     },
     "execution_count": 110,
     "metadata": {},
     "output_type": "execute_result"
    },
    {
     "data": {
      "image/png": "[encoded data removed]",
      "text/plain": [
       "<Figure size 432x288 with 1 Axes>"
      ]
     },
     "metadata": {
      "needs_background": "light"
     },
     "output_type": "display_data"
    }
   ],
   "source": [
    "sns.countplot(y_sampled)"
   ]
  },
  {
   "cell_type": "code",
   "execution_count": null,
   "metadata": {},
   "outputs": [],
   "source": [
    "# Now the dataset is balanced"
   ]
  },
  {
   "cell_type": "code",
   "execution_count": 111,
   "metadata": {},
   "outputs": [],
   "source": [
    "X_sampled.to_csv('X_samp.csv',index=False)"
   ]
  },
  {
   "cell_type": "code",
   "execution_count": 112,
   "metadata": {},
   "outputs": [],
   "source": [
    "y_sampled.to_csv('y_samp.csv',index=False)"
   ]
  },
  {
   "cell_type": "markdown",
   "metadata": {},
   "source": [
    "### ML model building:"
   ]
  },
  {
   "cell_type": "code",
   "execution_count": 41,
   "metadata": {},
   "outputs": [],
   "source": [
    "X_sampled = pd.read_csv('X_samp.csv')\n",
    "y_sampled = pd.read_csv('y_samp.csv')"
   ]
  },
  {
   "cell_type": "code",
   "execution_count": 42,
   "metadata": {},
   "outputs": [
    {
     "data": {
      "text/html": [
       "<div>\n",
       "<style scoped>\n",
       "    .dataframe tbody tr th:only-of-type {\n",
       "        vertical-align: middle;\n",
       "    }\n",
       "\n",
       "    .dataframe tbody tr th {\n",
       "        vertical-align: top;\n",
       "    }\n",
       "\n",
       "    .dataframe thead th {\n",
       "        text-align: right;\n",
       "    }\n",
       "</style>\n",
       "<table border=\"1\" class=\"dataframe\">\n",
       "  <thead>\n",
       "    <tr style=\"text-align: right;\">\n",
       "      <th></th>\n",
       "      <th>Gender</th>\n",
       "      <th>Age</th>\n",
       "      <th>Region_Code</th>\n",
       "      <th>Occupation</th>\n",
       "      <th>Channel_Code</th>\n",
       "      <th>Vintage</th>\n",
       "      <th>Credit_Product</th>\n",
       "      <th>Avg_Account_Balance</th>\n",
       "      <th>Is_Active</th>\n",
       "    </tr>\n",
       "  </thead>\n",
       "  <tbody>\n",
       "    <tr>\n",
       "      <th>0</th>\n",
       "      <td>0</td>\n",
       "      <td>73</td>\n",
       "      <td>18</td>\n",
       "      <td>1</td>\n",
       "      <td>2</td>\n",
       "      <td>43</td>\n",
       "      <td>0</td>\n",
       "      <td>1045696</td>\n",
       "      <td>0</td>\n",
       "    </tr>\n",
       "    <tr>\n",
       "      <th>1</th>\n",
       "      <td>0</td>\n",
       "      <td>30</td>\n",
       "      <td>27</td>\n",
       "      <td>2</td>\n",
       "      <td>0</td>\n",
       "      <td>32</td>\n",
       "      <td>0</td>\n",
       "      <td>581988</td>\n",
       "      <td>0</td>\n",
       "    </tr>\n",
       "    <tr>\n",
       "      <th>2</th>\n",
       "      <td>0</td>\n",
       "      <td>56</td>\n",
       "      <td>18</td>\n",
       "      <td>3</td>\n",
       "      <td>2</td>\n",
       "      <td>26</td>\n",
       "      <td>0</td>\n",
       "      <td>1484315</td>\n",
       "      <td>1</td>\n",
       "    </tr>\n",
       "    <tr>\n",
       "      <th>3</th>\n",
       "      <td>1</td>\n",
       "      <td>34</td>\n",
       "      <td>20</td>\n",
       "      <td>2</td>\n",
       "      <td>0</td>\n",
       "      <td>19</td>\n",
       "      <td>0</td>\n",
       "      <td>470454</td>\n",
       "      <td>0</td>\n",
       "    </tr>\n",
       "    <tr>\n",
       "      <th>4</th>\n",
       "      <td>0</td>\n",
       "      <td>30</td>\n",
       "      <td>32</td>\n",
       "      <td>2</td>\n",
       "      <td>0</td>\n",
       "      <td>33</td>\n",
       "      <td>0</td>\n",
       "      <td>886787</td>\n",
       "      <td>0</td>\n",
       "    </tr>\n",
       "  </tbody>\n",
       "</table>\n",
       "</div>"
      ],
      "text/plain": [
       "   Gender  Age  Region_Code  Occupation  Channel_Code  Vintage  \\\n",
       "0       0   73           18           1             2       43   \n",
       "1       0   30           27           2             0       32   \n",
       "2       0   56           18           3             2       26   \n",
       "3       1   34           20           2             0       19   \n",
       "4       0   30           32           2             0       33   \n",
       "\n",
       "   Credit_Product  Avg_Account_Balance  Is_Active  \n",
       "0               0              1045696          0  \n",
       "1               0               581988          0  \n",
       "2               0              1484315          1  \n",
       "3               0               470454          0  \n",
       "4               0               886787          0  "
      ]
     },
     "execution_count": 42,
     "metadata": {},
     "output_type": "execute_result"
    }
   ],
   "source": [
    "X_sampled.head()"
   ]
  },
  {
   "cell_type": "code",
   "execution_count": 43,
   "metadata": {},
   "outputs": [
    {
     "data": {
      "text/plain": [
       "(374874, 9)"
      ]
     },
     "execution_count": 43,
     "metadata": {},
     "output_type": "execute_result"
    }
   ],
   "source": [
    "X_sampled.shape"
   ]
  },
  {
   "cell_type": "code",
   "execution_count": 5,
   "metadata": {},
   "outputs": [],
   "source": [
    "# Train Test Split\n",
    "from sklearn.model_selection import train_test_split\n",
    "X_train,X_test,y_train,y_test = train_test_split(X_sampled,y_sampled,test_size=0.3,random_state=0)"
   ]
  },
  {
   "cell_type": "code",
   "execution_count": 5,
   "metadata": {},
   "outputs": [],
   "source": [
    "# Performing the standardisation on the dataset:\n",
    "# from sklearn.preprocessing import StandardScaler\n",
    "# scaler = StandardScaler()\n",
    "# X_train_scaled = scaler.fit_transform(X_train)\n",
    "# X_train_scaled = pd.DataFrame(X_train_scaled,columns=X_train.columns)"
   ]
  },
  {
   "cell_type": "code",
   "execution_count": 6,
   "metadata": {},
   "outputs": [
    {
     "name": "stderr",
     "output_type": "stream",
     "text": [
      "<ipython-input-6-88aac5a6d25d>:3: SettingWithCopyWarning: \n",
      "A value is trying to be set on a copy of a slice from a DataFrame.\n",
      "Try using .loc[row_indexer,col_indexer] = value instead\n",
      "\n",
      "See the caveats in the documentation: https://pandas.pydata.org/pandas-docs/stable/user_guide/indexing.html#returning-a-view-versus-a-copy\n",
      "  X_train['Avg_Account_Balance'] = np.log(X_train['Avg_Account_Balance'])\n",
      "<ipython-input-6-88aac5a6d25d>:4: SettingWithCopyWarning: \n",
      "A value is trying to be set on a copy of a slice from a DataFrame.\n",
      "Try using .loc[row_indexer,col_indexer] = value instead\n",
      "\n",
      "See the caveats in the documentation: https://pandas.pydata.org/pandas-docs/stable/user_guide/indexing.html#returning-a-view-versus-a-copy\n",
      "  X_test['Avg_Account_Balance'] = np.log(X_test['Avg_Account_Balance'])\n"
     ]
    }
   ],
   "source": [
    "# Tranforming feature 'Avg_account_balance' using log transformation. The transformation is being done after train test split to prevent data leakage\n",
    "# In this case, there is only feature being transformed, so there won't be much data leakage anyway.\n",
    "X_train['Avg_Account_Balance'] = np.log(X_train['Avg_Account_Balance'])\n",
    "X_test['Avg_Account_Balance'] = np.log(X_test['Avg_Account_Balance'])"
   ]
  },
  {
   "cell_type": "code",
   "execution_count": 119,
   "metadata": {},
   "outputs": [
    {
     "data": {
      "text/html": [
       "<div>\n",
       "<style scoped>\n",
       "    .dataframe tbody tr th:only-of-type {\n",
       "        vertical-align: middle;\n",
       "    }\n",
       "\n",
       "    .dataframe tbody tr th {\n",
       "        vertical-align: top;\n",
       "    }\n",
       "\n",
       "    .dataframe thead th {\n",
       "        text-align: right;\n",
       "    }\n",
       "</style>\n",
       "<table border=\"1\" class=\"dataframe\">\n",
       "  <thead>\n",
       "    <tr style=\"text-align: right;\">\n",
       "      <th></th>\n",
       "      <th>Gender</th>\n",
       "      <th>Age</th>\n",
       "      <th>Region_Code</th>\n",
       "      <th>Occupation</th>\n",
       "      <th>Channel_Code</th>\n",
       "      <th>Vintage</th>\n",
       "      <th>Credit_Product</th>\n",
       "      <th>Avg_Account_Balance</th>\n",
       "      <th>Is_Active</th>\n",
       "    </tr>\n",
       "  </thead>\n",
       "  <tbody>\n",
       "    <tr>\n",
       "      <th>333524</th>\n",
       "      <td>0</td>\n",
       "      <td>50</td>\n",
       "      <td>19</td>\n",
       "      <td>1</td>\n",
       "      <td>2</td>\n",
       "      <td>81</td>\n",
       "      <td>1</td>\n",
       "      <td>13.232979</td>\n",
       "      <td>0</td>\n",
       "    </tr>\n",
       "    <tr>\n",
       "      <th>259173</th>\n",
       "      <td>1</td>\n",
       "      <td>57</td>\n",
       "      <td>18</td>\n",
       "      <td>3</td>\n",
       "      <td>1</td>\n",
       "      <td>105</td>\n",
       "      <td>1</td>\n",
       "      <td>14.586275</td>\n",
       "      <td>0</td>\n",
       "    </tr>\n",
       "    <tr>\n",
       "      <th>95513</th>\n",
       "      <td>1</td>\n",
       "      <td>49</td>\n",
       "      <td>30</td>\n",
       "      <td>3</td>\n",
       "      <td>1</td>\n",
       "      <td>103</td>\n",
       "      <td>1</td>\n",
       "      <td>12.843239</td>\n",
       "      <td>0</td>\n",
       "    </tr>\n",
       "    <tr>\n",
       "      <th>333276</th>\n",
       "      <td>1</td>\n",
       "      <td>58</td>\n",
       "      <td>18</td>\n",
       "      <td>3</td>\n",
       "      <td>2</td>\n",
       "      <td>117</td>\n",
       "      <td>1</td>\n",
       "      <td>13.724313</td>\n",
       "      <td>0</td>\n",
       "    </tr>\n",
       "    <tr>\n",
       "      <th>214606</th>\n",
       "      <td>1</td>\n",
       "      <td>39</td>\n",
       "      <td>27</td>\n",
       "      <td>3</td>\n",
       "      <td>1</td>\n",
       "      <td>67</td>\n",
       "      <td>1</td>\n",
       "      <td>12.533421</td>\n",
       "      <td>1</td>\n",
       "    </tr>\n",
       "  </tbody>\n",
       "</table>\n",
       "</div>"
      ],
      "text/plain": [
       "        Gender  Age  Region_Code  Occupation  Channel_Code  Vintage  \\\n",
       "333524       0   50           19           1             2       81   \n",
       "259173       1   57           18           3             1      105   \n",
       "95513        1   49           30           3             1      103   \n",
       "333276       1   58           18           3             2      117   \n",
       "214606       1   39           27           3             1       67   \n",
       "\n",
       "        Credit_Product  Avg_Account_Balance  Is_Active  \n",
       "333524               1            13.232979          0  \n",
       "259173               1            14.586275          0  \n",
       "95513                1            12.843239          0  \n",
       "333276               1            13.724313          0  \n",
       "214606               1            12.533421          1  "
      ]
     },
     "execution_count": 119,
     "metadata": {},
     "output_type": "execute_result"
    }
   ],
   "source": [
    "X_train.head()"
   ]
  },
  {
   "cell_type": "code",
   "execution_count": 92,
   "metadata": {},
   "outputs": [],
   "source": [
    "# X_train_scaled = X_train_scaled.iloc[:262411,:]\n",
    "# X_test_scaled = X_test_scaled.iloc[:112463,:]"
   ]
  },
  {
   "cell_type": "code",
   "execution_count": 10,
   "metadata": {},
   "outputs": [],
   "source": [
    "# y_train = y_train.iloc[:262411,:]\n",
    "# y_test = y_test.iloc[:112463,:]"
   ]
  },
  {
   "cell_type": "code",
   "execution_count": 7,
   "metadata": {},
   "outputs": [],
   "source": [
    "from sklearn.metrics import roc_curve\n",
    "from sklearn.metrics import roc_auc_score"
   ]
  },
  {
   "cell_type": "markdown",
   "metadata": {},
   "source": [
    "#### Logistic Regression:"
   ]
  },
  {
   "cell_type": "code",
   "execution_count": 8,
   "metadata": {},
   "outputs": [],
   "source": [
    "from sklearn.linear_model import LogisticRegression\n",
    "import time"
   ]
  },
  {
   "cell_type": "code",
   "execution_count": 120,
   "metadata": {},
   "outputs": [
    {
     "name": "stderr",
     "output_type": "stream",
     "text": [
      "C:\\Users\\Sagar\\anaconda3\\lib\\site-packages\\sklearn\\utils\\validation.py:63: DataConversionWarning: A column-vector y was passed when a 1d array was expected. Please change the shape of y to (n_samples, ), for example using ravel().\n",
      "  return f(*args, **kwargs)\n"
     ]
    },
    {
     "name": "stdout",
     "output_type": "stream",
     "text": [
      "Training time: 7.675360679626465s\n"
     ]
    }
   ],
   "source": [
    "lr = LogisticRegression(random_state=42,max_iter=1000)\n",
    "start = time.time()\n",
    "lr.fit(X_train,y_train)\n",
    "stop = time.time()\n",
    "print(f\"Training time: {stop - start}s\")"
   ]
  },
  {
   "cell_type": "code",
   "execution_count": 163,
   "metadata": {},
   "outputs": [
    {
     "name": "stdout",
     "output_type": "stream",
     "text": [
      " Training roc_auc score:0.8252151644990691\n"
     ]
    }
   ],
   "source": [
    "ytrain_pred = lr.predict_proba(X_train)[:,1]\n",
    "roc_auc = roc_auc_score(y_train,ytrain_pred)\n",
    "print(f' Training roc_auc score:{roc_auc}')"
   ]
  },
  {
   "cell_type": "code",
   "execution_count": 167,
   "metadata": {},
   "outputs": [
    {
     "name": "stdout",
     "output_type": "stream",
     "text": [
      " Test roc_auc score:0.8235648938180027\n"
     ]
    }
   ],
   "source": [
    "y_pred = lr.predict_proba(X_test)[:,1]\n",
    "roc_auc = roc_auc_score(y_test,y_pred)\n",
    "print(f' Test roc_auc score:{roc_auc}')"
   ]
  },
  {
   "cell_type": "markdown",
   "metadata": {},
   "source": [
    "#### Random Forest:"
   ]
  },
  {
   "cell_type": "code",
   "execution_count": 123,
   "metadata": {},
   "outputs": [],
   "source": [
    "from sklearn.ensemble import RandomForestClassifier"
   ]
  },
  {
   "cell_type": "code",
   "execution_count": 125,
   "metadata": {},
   "outputs": [
    {
     "name": "stderr",
     "output_type": "stream",
     "text": [
      "<ipython-input-125-d9d9e584c2c7>:3: DataConversionWarning: A column-vector y was passed when a 1d array was expected. Please change the shape of y to (n_samples,), for example using ravel().\n",
      "  rf.fit(X_train,y_train)\n"
     ]
    },
    {
     "name": "stdout",
     "output_type": "stream",
     "text": [
      "Training time: 80.08286619186401s\n"
     ]
    }
   ],
   "source": [
    "rf = RandomForestClassifier(n_estimators=300,n_jobs=-1,random_state=0)\n",
    "start = time.time()\n",
    "rf.fit(X_train,y_train)\n",
    "stop = time.time()\n",
    "print(f\"Training time: {stop - start}s\")"
   ]
  },
  {
   "cell_type": "code",
   "execution_count": 168,
   "metadata": {},
   "outputs": [
    {
     "name": "stdout",
     "output_type": "stream",
     "text": [
      " Training roc_auc score:0.9999993114638254\n"
     ]
    }
   ],
   "source": [
    "ytrain_pred = rf.predict_proba(X_train)[:,1]\n",
    "roc_auc = roc_auc_score(y_train,ytrain_pred)\n",
    "print(f' Training roc_auc score:{roc_auc}')"
   ]
  },
  {
   "cell_type": "code",
   "execution_count": 170,
   "metadata": {},
   "outputs": [
    {
     "name": "stdout",
     "output_type": "stream",
     "text": [
      " Test roc_auc score:0.9724605442429561\n"
     ]
    }
   ],
   "source": [
    "y_pred = rf.predict_proba(X_test)[:,1]\n",
    "roc_auc = roc_auc_score(y_test,y_pred)\n",
    "print(f' Test roc_auc score:{roc_auc}')"
   ]
  },
  {
   "cell_type": "markdown",
   "metadata": {},
   "source": [
    "#### XgBoost:"
   ]
  },
  {
   "cell_type": "code",
   "execution_count": 137,
   "metadata": {},
   "outputs": [],
   "source": [
    "from xgboost import XGBClassifier"
   ]
  },
  {
   "cell_type": "code",
   "execution_count": 138,
   "metadata": {},
   "outputs": [
    {
     "name": "stderr",
     "output_type": "stream",
     "text": [
      "C:\\Users\\Sagar\\anaconda3\\lib\\site-packages\\sklearn\\utils\\validation.py:63: DataConversionWarning: A column-vector y was passed when a 1d array was expected. Please change the shape of y to (n_samples, ), for example using ravel().\n",
      "  return f(*args, **kwargs)\n"
     ]
    },
    {
     "name": "stdout",
     "output_type": "stream",
     "text": [
      "Training time: 89.75494265556335s\n"
     ]
    }
   ],
   "source": [
    "xgb = XGBClassifier(n_estimators=500,n_jobs=-1)\n",
    "start = time.time()\n",
    "xgb.fit(X_train,y_train)\n",
    "stop = time.time()\n",
    "print(f\"Training time: {stop - start}s\")"
   ]
  },
  {
   "cell_type": "code",
   "execution_count": 172,
   "metadata": {},
   "outputs": [
    {
     "name": "stdout",
     "output_type": "stream",
     "text": [
      " Training roc_auc score:0.9164158482099953\n"
     ]
    }
   ],
   "source": [
    "ytrain_pred = xgb.predict_proba(X_train)[:,1]\n",
    "roc_auc = roc_auc_score(y_train,ytrain_pred)\n",
    "print(f' Training roc_auc score:{roc_auc}')"
   ]
  },
  {
   "cell_type": "code",
   "execution_count": 173,
   "metadata": {},
   "outputs": [
    {
     "name": "stdout",
     "output_type": "stream",
     "text": [
      " Test roc_auc score:0.8814391706149899\n"
     ]
    }
   ],
   "source": [
    "y_pred = xgb.predict_proba(X_test)[:,1]\n",
    "roc_auc = roc_auc_score(y_test,y_pred)\n",
    "print(f' Test roc_auc score:{roc_auc}')"
   ]
  },
  {
   "cell_type": "markdown",
   "metadata": {},
   "source": [
    "#### LightGBM:"
   ]
  },
  {
   "cell_type": "code",
   "execution_count": 145,
   "metadata": {},
   "outputs": [
    {
     "name": "stdout",
     "output_type": "stream",
     "text": [
      "Requirement already satisfied: lightgbm in c:\\users\\sagar\\anaconda3\\lib\\site-packages (3.2.1)Note: you may need to restart the kernel to use updated packages.\n",
      "\n",
      "Requirement already satisfied: scipy in c:\\users\\sagar\\anaconda3\\lib\\site-packages (from lightgbm) (1.6.1)\n",
      "Requirement already satisfied: scikit-learn!=0.22.0 in c:\\users\\sagar\\anaconda3\\lib\\site-packages (from lightgbm) (0.24.1)\n",
      "Requirement already satisfied: numpy in c:\\users\\sagar\\anaconda3\\lib\\site-packages (from lightgbm) (1.18.5)\n",
      "Requirement already satisfied: wheel in c:\\users\\sagar\\anaconda3\\lib\\site-packages (from lightgbm) (0.34.2)\n",
      "Requirement already satisfied: joblib>=0.11 in c:\\users\\sagar\\anaconda3\\lib\\site-packages (from scikit-learn!=0.22.0->lightgbm) (1.0.1)\n",
      "Requirement already satisfied: threadpoolctl>=2.0.0 in c:\\users\\sagar\\anaconda3\\lib\\site-packages (from scikit-learn!=0.22.0->lightgbm) (2.1.0)\n"
     ]
    }
   ],
   "source": [
    "pip install lightgbm"
   ]
  },
  {
   "cell_type": "code",
   "execution_count": 44,
   "metadata": {},
   "outputs": [],
   "source": [
    "from lightgbm import LGBMClassifier"
   ]
  },
  {
   "cell_type": "code",
   "execution_count": 154,
   "metadata": {},
   "outputs": [
    {
     "name": "stderr",
     "output_type": "stream",
     "text": [
      "C:\\Users\\Sagar\\anaconda3\\lib\\site-packages\\sklearn\\utils\\validation.py:63: DataConversionWarning: A column-vector y was passed when a 1d array was expected. Please change the shape of y to (n_samples, ), for example using ravel().\n",
      "  return f(*args, **kwargs)\n"
     ]
    },
    {
     "name": "stdout",
     "output_type": "stream",
     "text": [
      "Training time: 3.2802300453186035s\n"
     ]
    }
   ],
   "source": [
    "model = LGBMClassifier()\n",
    "start = time.time()\n",
    "model.fit(X_train,y_train)\n",
    "stop = time.time()\n",
    "print(f\"Training time: {stop - start}s\")"
   ]
  },
  {
   "cell_type": "code",
   "execution_count": 155,
   "metadata": {},
   "outputs": [
    {
     "name": "stdout",
     "output_type": "stream",
     "text": [
      " Training roc_auc score:0.7944786113137805\n"
     ]
    }
   ],
   "source": [
    "ytrain_pred = model.predict(X_train)\n",
    "roc_auc = roc_auc_score(y_train,ytrain_pred)\n",
    "print(f' Training roc_auc score:{roc_auc}')"
   ]
  },
  {
   "cell_type": "code",
   "execution_count": 156,
   "metadata": {},
   "outputs": [
    {
     "name": "stdout",
     "output_type": "stream",
     "text": [
      " Test roc_auc score:0.7910278838367736\n"
     ]
    }
   ],
   "source": [
    "y_pred = model.predict(X_test)\n",
    "roc_auc = roc_auc_score(y_test,y_pred)\n",
    "print(f' Test roc_auc score:{roc_auc}')"
   ]
  },
  {
   "cell_type": "code",
   "execution_count": null,
   "metadata": {},
   "outputs": [],
   "source": [
    "####Creating a pickle object and dumpin the model into the same."
   ]
  },
  {
   "cell_type": "code",
   "execution_count": 157,
   "metadata": {},
   "outputs": [],
   "source": [
    "import pickle\n",
    "filename = 'model_stand_lightgbm.pkl'\n",
    "pickle.dump(model,open(filename,'wb'))"
   ]
  },
  {
   "cell_type": "code",
   "execution_count": 132,
   "metadata": {},
   "outputs": [],
   "source": [
    "test_scaled_lben = pd.read_csv('test_scaled_lben.csv')"
   ]
  },
  {
   "cell_type": "code",
   "execution_count": 134,
   "metadata": {},
   "outputs": [
    {
     "data": {
      "text/plain": [
       "(105312, 9)"
      ]
     },
     "execution_count": 134,
     "metadata": {},
     "output_type": "execute_result"
    }
   ],
   "source": [
    "test_scaled_lben.shape"
   ]
  },
  {
   "cell_type": "code",
   "execution_count": 174,
   "metadata": {},
   "outputs": [],
   "source": [
    "y_pred = model.predict_proba(test_scaled_lben)[:,1]"
   ]
  },
  {
   "cell_type": "code",
   "execution_count": 175,
   "metadata": {},
   "outputs": [],
   "source": [
    "pred = pd.DataFrame(y_pred)\n",
    "sub_df = pd.read_csv('sample_submission_1.csv')\n",
    "datasets = pd.concat([sub_df['ID'],pred],axis=1)\n",
    "datasets.columns = ['ID','Is_Lead']\n",
    "datasets.to_csv('sample_submission_lightgbm.csv',index=False)"
   ]
  },
  {
   "cell_type": "markdown",
   "metadata": {},
   "source": [
    "#### After trying all the models, LightGBM is giving the best score till now without any overfitting. Therefore, we will work with best parameters on LightGBM model now."
   ]
  },
  {
   "cell_type": "code",
   "execution_count": null,
   "metadata": {},
   "outputs": [],
   "source": []
  },
  {
   "cell_type": "code",
   "execution_count": 1,
   "metadata": {},
   "outputs": [],
   "source": [
    "# checked with various paramters for LGBMClassier and found the following to be best\n",
    "lgb_params= {'learning_rate': 0.050, \n",
    "             'n_estimators': 20000, \n",
    "             'max_bin': 96,\n",
    "             'num_leaves': 11, \n",
    "             'max_depth': 26, \n",
    "             'reg_alpha': 9, \n",
    "             'reg_lambda': 7, \n",
    "             'subsample': 0.7}"
   ]
  },
  {
   "cell_type": "code",
   "execution_count": 22,
   "metadata": {},
   "outputs": [
    {
     "name": "stderr",
     "output_type": "stream",
     "text": [
      "C:\\Users\\Sagar\\anaconda3\\lib\\site-packages\\sklearn\\utils\\validation.py:63: DataConversionWarning: A column-vector y was passed when a 1d array was expected. Please change the shape of y to (n_samples, ), for example using ravel().\n",
      "  return f(*args, **kwargs)\n"
     ]
    },
    {
     "name": "stdout",
     "output_type": "stream",
     "text": [
      "Training time: 18.321964502334595s\n"
     ]
    }
   ],
   "source": [
    "lgbm_model = LGBMClassifier(n_estimators=2000,max_bin=96,max_depth=26,num_leaves=11,learning_rate=0.050,reg_alpha=9,reg_lambda=7,\n",
    "                            subsample=0.7,)\n",
    "start = time.time()\n",
    "lgbm_model.fit(X_train,y_train)\n",
    "stop = time.time()\n",
    "print(f\"Training time: {stop - start}s\")"
   ]
  },
  {
   "cell_type": "code",
   "execution_count": 23,
   "metadata": {},
   "outputs": [
    {
     "name": "stdout",
     "output_type": "stream",
     "text": [
      " Training roc_auc score:0.7968712821885698\n"
     ]
    }
   ],
   "source": [
    "ytrain_pred = lgbm_model.predict(X_train)\n",
    "roc_auc = roc_auc_score(y_train,ytrain_pred)\n",
    "print(f' Training roc_auc score:{roc_auc}')"
   ]
  },
  {
   "cell_type": "code",
   "execution_count": 24,
   "metadata": {},
   "outputs": [
    {
     "name": "stdout",
     "output_type": "stream",
     "text": [
      " Test roc_auc score:0.7916697821389593\n"
     ]
    }
   ],
   "source": [
    "y_pred = lgbm_model.predict(X_test)\n",
    "roc_auc = roc_auc_score(y_test,y_pred)\n",
    "print(f' Test roc_auc score:{roc_auc}')"
   ]
  },
  {
   "cell_type": "markdown",
   "metadata": {},
   "source": [
    "#### Dumping the model into pickle:"
   ]
  },
  {
   "cell_type": "code",
   "execution_count": 25,
   "metadata": {},
   "outputs": [],
   "source": [
    "import pickle\n",
    "filename = 'model_stand_lightgbm.pkl'\n",
    "pickle.dump(lgbm_model,open(filename,'wb'))"
   ]
  },
  {
   "cell_type": "code",
   "execution_count": 26,
   "metadata": {},
   "outputs": [],
   "source": [
    "test_scaled_lben = pd.read_csv('test_scaled_lben.csv')"
   ]
  },
  {
   "cell_type": "code",
   "execution_count": 27,
   "metadata": {},
   "outputs": [
    {
     "data": {
      "text/plain": [
       "(105312, 9)"
      ]
     },
     "execution_count": 27,
     "metadata": {},
     "output_type": "execute_result"
    }
   ],
   "source": [
    "test_scaled_lben.shape"
   ]
  },
  {
   "cell_type": "code",
   "execution_count": 28,
   "metadata": {},
   "outputs": [],
   "source": [
    "y_pred = lgbm_model.predict_proba(test_scaled_lben)[:,1]"
   ]
  },
  {
   "cell_type": "code",
   "execution_count": 29,
   "metadata": {},
   "outputs": [],
   "source": [
    "# pred = pd.DataFrame(y_pred)\n",
    "# sub_df = pd.read_csv('sample_submission_1.csv')\n",
    "# datasets = pd.concat([sub_df['ID'],pred],axis=1)\n",
    "# datasets.columns = ['ID','Is_Lead']\n",
    "# datasets.to_csv('sample_submission_lightgbm.csv',index=False)"
   ]
  },
  {
   "cell_type": "code",
   "execution_count": 45,
   "metadata": {},
   "outputs": [],
   "source": [
    "# Changing 'Avg_Account_Balance' with log transformation for cross val score.\n",
    "X_sampled['Avg_Account_Balance'] = np.log(X_sampled['Avg_Account_Balance'])"
   ]
  },
  {
   "cell_type": "code",
   "execution_count": null,
   "metadata": {},
   "outputs": [],
   "source": [
    "#### Using Stratified K fold cross validation to find out the ROC_AUC score. "
   ]
  },
  {
   "cell_type": "code",
   "execution_count": 46,
   "metadata": {},
   "outputs": [],
   "source": [
    "# Using K foild cross validation to find out the ROC_AUC score\n",
    "from sklearn.model_selection import KFold, StratifiedKFold\n",
    "\n",
    "def cross_val_score(X, y, model, params, folds=11):\n",
    "\n",
    "    skf = StratifiedKFold(n_splits=folds, shuffle=True, random_state=11)\n",
    "    for fold, (train_idx, test_idx) in enumerate(skf.split(X, y)):\n",
    "        print(f\"Fold: {fold}\")\n",
    "        x_train, y_train = X.iloc[train_idx], y.iloc[train_idx]\n",
    "        x_test, y_test = X.iloc[test_idx], y.iloc[test_idx]\n",
    "\n",
    "        alg = model(**params)\n",
    "        alg.fit(x_train, y_train,\n",
    "                eval_set=[(x_test, y_test)],\n",
    "                early_stopping_rounds=100,\n",
    "                verbose=400)\n",
    "\n",
    "        pred = alg.predict_proba(x_test)[:, 1]\n",
    "        roc_score = roc_auc_score(y_test, pred)\n",
    "        print(f\"roc_auc_score: {roc_score}\")\n",
    "        print(\"_____\"*10)\n",
    "    \n",
    "    return alg"
   ]
  },
  {
   "cell_type": "code",
   "execution_count": 47,
   "metadata": {},
   "outputs": [],
   "source": [
    "lgb_params= {'learning_rate': 0.050, \n",
    "             'n_estimators': 20000, \n",
    "             'max_bin': 96,\n",
    "             'num_leaves': 11, \n",
    "             'max_depth': 26, \n",
    "             'reg_alpha': 9, \n",
    "             'reg_lambda': 7, \n",
    "             'subsample': 0.7}"
   ]
  },
  {
   "cell_type": "code",
   "execution_count": 48,
   "metadata": {},
   "outputs": [
    {
     "name": "stdout",
     "output_type": "stream",
     "text": [
      "Fold: 0\n"
     ]
    },
    {
     "name": "stderr",
     "output_type": "stream",
     "text": [
      "C:\\Users\\Sagar\\anaconda3\\lib\\site-packages\\sklearn\\utils\\validation.py:63: DataConversionWarning: A column-vector y was passed when a 1d array was expected. Please change the shape of y to (n_samples, ), for example using ravel().\n",
      "  return f(*args, **kwargs)\n"
     ]
    },
    {
     "name": "stdout",
     "output_type": "stream",
     "text": [
      "Training until validation scores don't improve for 100 rounds\n",
      "[400]\tvalid_0's binary_logloss: 0.468109\n",
      "[800]\tvalid_0's binary_logloss: 0.465733\n",
      "[1200]\tvalid_0's binary_logloss: 0.463977\n",
      "[1600]\tvalid_0's binary_logloss: 0.462635\n",
      "[2000]\tvalid_0's binary_logloss: 0.46146\n",
      "[2400]\tvalid_0's binary_logloss: 0.460397\n",
      "[2800]\tvalid_0's binary_logloss: 0.459484\n",
      "[3200]\tvalid_0's binary_logloss: 0.45869\n",
      "[3600]\tvalid_0's binary_logloss: 0.457855\n",
      "[4000]\tvalid_0's binary_logloss: 0.457036\n",
      "[4400]\tvalid_0's binary_logloss: 0.456217\n",
      "[4800]\tvalid_0's binary_logloss: 0.455343\n",
      "[5200]\tvalid_0's binary_logloss: 0.454552\n",
      "[5600]\tvalid_0's binary_logloss: 0.453699\n",
      "[6000]\tvalid_0's binary_logloss: 0.452918\n",
      "[6400]\tvalid_0's binary_logloss: 0.452291\n",
      "[6800]\tvalid_0's binary_logloss: 0.451772\n",
      "[7200]\tvalid_0's binary_logloss: 0.451158\n",
      "[7600]\tvalid_0's binary_logloss: 0.45054\n",
      "[8000]\tvalid_0's binary_logloss: 0.449875\n",
      "[8400]\tvalid_0's binary_logloss: 0.449305\n",
      "[8800]\tvalid_0's binary_logloss: 0.44867\n",
      "[9200]\tvalid_0's binary_logloss: 0.447969\n",
      "[9600]\tvalid_0's binary_logloss: 0.447382\n",
      "[10000]\tvalid_0's binary_logloss: 0.446824\n",
      "[10400]\tvalid_0's binary_logloss: 0.446194\n",
      "[10800]\tvalid_0's binary_logloss: 0.445694\n",
      "[11200]\tvalid_0's binary_logloss: 0.445082\n",
      "[11600]\tvalid_0's binary_logloss: 0.444649\n",
      "[12000]\tvalid_0's binary_logloss: 0.444273\n",
      "Early stopping, best iteration is:\n",
      "[11959]\tvalid_0's binary_logloss: 0.444273\n",
      "roc_auc_score: 0.8733197244401463\n",
      "--------------------------------------------------\n",
      "Fold: 1\n"
     ]
    },
    {
     "name": "stderr",
     "output_type": "stream",
     "text": [
      "C:\\Users\\Sagar\\anaconda3\\lib\\site-packages\\sklearn\\utils\\validation.py:63: DataConversionWarning: A column-vector y was passed when a 1d array was expected. Please change the shape of y to (n_samples, ), for example using ravel().\n",
      "  return f(*args, **kwargs)\n"
     ]
    },
    {
     "name": "stdout",
     "output_type": "stream",
     "text": [
      "Training until validation scores don't improve for 100 rounds\n",
      "[400]\tvalid_0's binary_logloss: 0.475025\n",
      "[800]\tvalid_0's binary_logloss: 0.472698\n",
      "[1200]\tvalid_0's binary_logloss: 0.470872\n",
      "[1600]\tvalid_0's binary_logloss: 0.469525\n",
      "[2000]\tvalid_0's binary_logloss: 0.468292\n",
      "[2400]\tvalid_0's binary_logloss: 0.467118\n",
      "[2800]\tvalid_0's binary_logloss: 0.466174\n",
      "[3200]\tvalid_0's binary_logloss: 0.465055\n",
      "[3600]\tvalid_0's binary_logloss: 0.464137\n",
      "[4000]\tvalid_0's binary_logloss: 0.4633\n",
      "[4400]\tvalid_0's binary_logloss: 0.462278\n",
      "[4800]\tvalid_0's binary_logloss: 0.461517\n",
      "[5200]\tvalid_0's binary_logloss: 0.460727\n",
      "[5600]\tvalid_0's binary_logloss: 0.460014\n",
      "[6000]\tvalid_0's binary_logloss: 0.459231\n",
      "[6400]\tvalid_0's binary_logloss: 0.458513\n",
      "[6800]\tvalid_0's binary_logloss: 0.457879\n",
      "[7200]\tvalid_0's binary_logloss: 0.457156\n",
      "[7600]\tvalid_0's binary_logloss: 0.456408\n",
      "[8000]\tvalid_0's binary_logloss: 0.455744\n",
      "[8400]\tvalid_0's binary_logloss: 0.455099\n",
      "[8800]\tvalid_0's binary_logloss: 0.454417\n",
      "[9200]\tvalid_0's binary_logloss: 0.453838\n",
      "[9600]\tvalid_0's binary_logloss: 0.453209\n",
      "[10000]\tvalid_0's binary_logloss: 0.452668\n",
      "[10400]\tvalid_0's binary_logloss: 0.452121\n",
      "[10800]\tvalid_0's binary_logloss: 0.451597\n",
      "Early stopping, best iteration is:\n",
      "[10937]\tvalid_0's binary_logloss: 0.451433\n",
      "roc_auc_score: 0.8688565275160351\n",
      "--------------------------------------------------\n",
      "Fold: 2\n"
     ]
    },
    {
     "name": "stderr",
     "output_type": "stream",
     "text": [
      "C:\\Users\\Sagar\\anaconda3\\lib\\site-packages\\sklearn\\utils\\validation.py:63: DataConversionWarning: A column-vector y was passed when a 1d array was expected. Please change the shape of y to (n_samples, ), for example using ravel().\n",
      "  return f(*args, **kwargs)\n"
     ]
    },
    {
     "name": "stdout",
     "output_type": "stream",
     "text": [
      "Training until validation scores don't improve for 100 rounds\n",
      "[400]\tvalid_0's binary_logloss: 0.472234\n",
      "[800]\tvalid_0's binary_logloss: 0.470128\n",
      "[1200]\tvalid_0's binary_logloss: 0.468588\n",
      "[1600]\tvalid_0's binary_logloss: 0.467048\n",
      "[2000]\tvalid_0's binary_logloss: 0.465782\n",
      "[2400]\tvalid_0's binary_logloss: 0.464642\n",
      "[2800]\tvalid_0's binary_logloss: 0.463655\n",
      "[3200]\tvalid_0's binary_logloss: 0.462746\n",
      "[3600]\tvalid_0's binary_logloss: 0.461897\n",
      "[4000]\tvalid_0's binary_logloss: 0.461061\n",
      "[4400]\tvalid_0's binary_logloss: 0.460347\n",
      "[4800]\tvalid_0's binary_logloss: 0.459459\n",
      "[5200]\tvalid_0's binary_logloss: 0.458685\n",
      "[5600]\tvalid_0's binary_logloss: 0.457887\n",
      "[6000]\tvalid_0's binary_logloss: 0.457219\n",
      "[6400]\tvalid_0's binary_logloss: 0.456628\n",
      "[6800]\tvalid_0's binary_logloss: 0.456045\n",
      "[7200]\tvalid_0's binary_logloss: 0.455396\n",
      "[7600]\tvalid_0's binary_logloss: 0.454847\n",
      "[8000]\tvalid_0's binary_logloss: 0.454263\n",
      "[8400]\tvalid_0's binary_logloss: 0.453831\n",
      "[8800]\tvalid_0's binary_logloss: 0.45325\n",
      "[9200]\tvalid_0's binary_logloss: 0.452626\n",
      "[9600]\tvalid_0's binary_logloss: 0.452055\n",
      "[10000]\tvalid_0's binary_logloss: 0.451542\n",
      "[10400]\tvalid_0's binary_logloss: 0.451065\n",
      "[10800]\tvalid_0's binary_logloss: 0.450631\n",
      "Early stopping, best iteration is:\n",
      "[10992]\tvalid_0's binary_logloss: 0.450464\n",
      "roc_auc_score: 0.8688491384535695\n",
      "--------------------------------------------------\n",
      "Fold: 3\n"
     ]
    },
    {
     "name": "stderr",
     "output_type": "stream",
     "text": [
      "C:\\Users\\Sagar\\anaconda3\\lib\\site-packages\\sklearn\\utils\\validation.py:63: DataConversionWarning: A column-vector y was passed when a 1d array was expected. Please change the shape of y to (n_samples, ), for example using ravel().\n",
      "  return f(*args, **kwargs)\n"
     ]
    },
    {
     "name": "stdout",
     "output_type": "stream",
     "text": [
      "Training until validation scores don't improve for 100 rounds\n",
      "[400]\tvalid_0's binary_logloss: 0.474377\n",
      "[800]\tvalid_0's binary_logloss: 0.47203\n",
      "[1200]\tvalid_0's binary_logloss: 0.470494\n",
      "[1600]\tvalid_0's binary_logloss: 0.469133\n",
      "[2000]\tvalid_0's binary_logloss: 0.467967\n",
      "[2400]\tvalid_0's binary_logloss: 0.466935\n",
      "[2800]\tvalid_0's binary_logloss: 0.465936\n",
      "[3200]\tvalid_0's binary_logloss: 0.464777\n",
      "[3600]\tvalid_0's binary_logloss: 0.463752\n",
      "[4000]\tvalid_0's binary_logloss: 0.462868\n",
      "[4400]\tvalid_0's binary_logloss: 0.462002\n",
      "[4800]\tvalid_0's binary_logloss: 0.46122\n",
      "[5200]\tvalid_0's binary_logloss: 0.460471\n",
      "[5600]\tvalid_0's binary_logloss: 0.459704\n",
      "[6000]\tvalid_0's binary_logloss: 0.458987\n",
      "[6400]\tvalid_0's binary_logloss: 0.45828\n",
      "[6800]\tvalid_0's binary_logloss: 0.457624\n",
      "[7200]\tvalid_0's binary_logloss: 0.457005\n",
      "[7600]\tvalid_0's binary_logloss: 0.456347\n",
      "[8000]\tvalid_0's binary_logloss: 0.455666\n",
      "[8400]\tvalid_0's binary_logloss: 0.455084\n",
      "[8800]\tvalid_0's binary_logloss: 0.454523\n",
      "[9200]\tvalid_0's binary_logloss: 0.45387\n",
      "[9600]\tvalid_0's binary_logloss: 0.45334\n",
      "[10000]\tvalid_0's binary_logloss: 0.452676\n",
      "[10400]\tvalid_0's binary_logloss: 0.452044\n",
      "[10800]\tvalid_0's binary_logloss: 0.451597\n",
      "[11200]\tvalid_0's binary_logloss: 0.451028\n",
      "[11600]\tvalid_0's binary_logloss: 0.450401\n",
      "[12000]\tvalid_0's binary_logloss: 0.449922\n",
      "[12400]\tvalid_0's binary_logloss: 0.44942\n",
      "Early stopping, best iteration is:\n",
      "[12451]\tvalid_0's binary_logloss: 0.449393\n",
      "roc_auc_score: 0.870021712581829\n",
      "--------------------------------------------------\n",
      "Fold: 4\n"
     ]
    },
    {
     "name": "stderr",
     "output_type": "stream",
     "text": [
      "C:\\Users\\Sagar\\anaconda3\\lib\\site-packages\\sklearn\\utils\\validation.py:63: DataConversionWarning: A column-vector y was passed when a 1d array was expected. Please change the shape of y to (n_samples, ), for example using ravel().\n",
      "  return f(*args, **kwargs)\n"
     ]
    },
    {
     "name": "stdout",
     "output_type": "stream",
     "text": [
      "Training until validation scores don't improve for 100 rounds\n",
      "[400]\tvalid_0's binary_logloss: 0.468116\n",
      "[800]\tvalid_0's binary_logloss: 0.465893\n",
      "[1200]\tvalid_0's binary_logloss: 0.464506\n",
      "[1600]\tvalid_0's binary_logloss: 0.463316\n",
      "[2000]\tvalid_0's binary_logloss: 0.462116\n",
      "[2400]\tvalid_0's binary_logloss: 0.461069\n",
      "[2800]\tvalid_0's binary_logloss: 0.46012\n",
      "[3200]\tvalid_0's binary_logloss: 0.459141\n",
      "[3600]\tvalid_0's binary_logloss: 0.458195\n",
      "[4000]\tvalid_0's binary_logloss: 0.457369\n",
      "[4400]\tvalid_0's binary_logloss: 0.456575\n",
      "[4800]\tvalid_0's binary_logloss: 0.455677\n",
      "[5200]\tvalid_0's binary_logloss: 0.454939\n",
      "[5600]\tvalid_0's binary_logloss: 0.454096\n",
      "[6000]\tvalid_0's binary_logloss: 0.453269\n",
      "[6400]\tvalid_0's binary_logloss: 0.452567\n",
      "[6800]\tvalid_0's binary_logloss: 0.451849\n",
      "[7200]\tvalid_0's binary_logloss: 0.4512\n",
      "[7600]\tvalid_0's binary_logloss: 0.450587\n",
      "[8000]\tvalid_0's binary_logloss: 0.449947\n",
      "[8400]\tvalid_0's binary_logloss: 0.449375\n",
      "[8800]\tvalid_0's binary_logloss: 0.448754\n",
      "[9200]\tvalid_0's binary_logloss: 0.44824\n",
      "[9600]\tvalid_0's binary_logloss: 0.44776\n",
      "[10000]\tvalid_0's binary_logloss: 0.447343\n",
      "[10400]\tvalid_0's binary_logloss: 0.446808\n",
      "[10800]\tvalid_0's binary_logloss: 0.446239\n",
      "[11200]\tvalid_0's binary_logloss: 0.445714\n",
      "[11600]\tvalid_0's binary_logloss: 0.445341\n",
      "Early stopping, best iteration is:\n",
      "[11534]\tvalid_0's binary_logloss: 0.445341\n",
      "roc_auc_score: 0.8725214887230267\n",
      "--------------------------------------------------\n",
      "Fold: 5\n"
     ]
    },
    {
     "name": "stderr",
     "output_type": "stream",
     "text": [
      "C:\\Users\\Sagar\\anaconda3\\lib\\site-packages\\sklearn\\utils\\validation.py:63: DataConversionWarning: A column-vector y was passed when a 1d array was expected. Please change the shape of y to (n_samples, ), for example using ravel().\n",
      "  return f(*args, **kwargs)\n"
     ]
    },
    {
     "name": "stdout",
     "output_type": "stream",
     "text": [
      "Training until validation scores don't improve for 100 rounds\n",
      "[400]\tvalid_0's binary_logloss: 0.477386\n",
      "[800]\tvalid_0's binary_logloss: 0.475333\n",
      "[1200]\tvalid_0's binary_logloss: 0.473741\n",
      "[1600]\tvalid_0's binary_logloss: 0.472272\n",
      "[2000]\tvalid_0's binary_logloss: 0.471193\n",
      "[2400]\tvalid_0's binary_logloss: 0.470205\n",
      "[2800]\tvalid_0's binary_logloss: 0.469353\n",
      "[3200]\tvalid_0's binary_logloss: 0.468329\n",
      "[3600]\tvalid_0's binary_logloss: 0.467535\n",
      "[4000]\tvalid_0's binary_logloss: 0.466729\n",
      "[4400]\tvalid_0's binary_logloss: 0.465947\n",
      "[4800]\tvalid_0's binary_logloss: 0.46502\n",
      "[5200]\tvalid_0's binary_logloss: 0.464081\n",
      "[5600]\tvalid_0's binary_logloss: 0.463221\n",
      "[6000]\tvalid_0's binary_logloss: 0.462368\n",
      "[6400]\tvalid_0's binary_logloss: 0.461566\n",
      "[6800]\tvalid_0's binary_logloss: 0.460788\n",
      "[7200]\tvalid_0's binary_logloss: 0.460164\n",
      "[7600]\tvalid_0's binary_logloss: 0.459551\n",
      "[8000]\tvalid_0's binary_logloss: 0.458787\n",
      "[8400]\tvalid_0's binary_logloss: 0.458165\n",
      "[8800]\tvalid_0's binary_logloss: 0.457614\n",
      "[9200]\tvalid_0's binary_logloss: 0.457105\n",
      "Early stopping, best iteration is:\n",
      "[9228]\tvalid_0's binary_logloss: 0.457074\n",
      "roc_auc_score: 0.8648493448611538\n",
      "--------------------------------------------------\n",
      "Fold: 6\n"
     ]
    },
    {
     "name": "stderr",
     "output_type": "stream",
     "text": [
      "C:\\Users\\Sagar\\anaconda3\\lib\\site-packages\\sklearn\\utils\\validation.py:63: DataConversionWarning: A column-vector y was passed when a 1d array was expected. Please change the shape of y to (n_samples, ), for example using ravel().\n",
      "  return f(*args, **kwargs)\n"
     ]
    },
    {
     "name": "stdout",
     "output_type": "stream",
     "text": [
      "Training until validation scores don't improve for 100 rounds\n",
      "[400]\tvalid_0's binary_logloss: 0.471773\n",
      "[800]\tvalid_0's binary_logloss: 0.469824\n",
      "[1200]\tvalid_0's binary_logloss: 0.468327\n",
      "[1600]\tvalid_0's binary_logloss: 0.467261\n",
      "[2000]\tvalid_0's binary_logloss: 0.465997\n",
      "[2400]\tvalid_0's binary_logloss: 0.464706\n",
      "[2800]\tvalid_0's binary_logloss: 0.46369\n",
      "[3200]\tvalid_0's binary_logloss: 0.462669\n",
      "[3600]\tvalid_0's binary_logloss: 0.46184\n",
      "[4000]\tvalid_0's binary_logloss: 0.461115\n",
      "[4400]\tvalid_0's binary_logloss: 0.460168\n",
      "[4800]\tvalid_0's binary_logloss: 0.45946\n",
      "[5200]\tvalid_0's binary_logloss: 0.458777\n",
      "[5600]\tvalid_0's binary_logloss: 0.45803\n",
      "[6000]\tvalid_0's binary_logloss: 0.457339\n",
      "[6400]\tvalid_0's binary_logloss: 0.456651\n",
      "[6800]\tvalid_0's binary_logloss: 0.456087\n",
      "[7200]\tvalid_0's binary_logloss: 0.455363\n",
      "[7600]\tvalid_0's binary_logloss: 0.454695\n",
      "[8000]\tvalid_0's binary_logloss: 0.454059\n",
      "[8400]\tvalid_0's binary_logloss: 0.453486\n",
      "[8800]\tvalid_0's binary_logloss: 0.452931\n",
      "[9200]\tvalid_0's binary_logloss: 0.452425\n",
      "[9600]\tvalid_0's binary_logloss: 0.451962\n",
      "[10000]\tvalid_0's binary_logloss: 0.45156\n",
      "[10400]\tvalid_0's binary_logloss: 0.451063\n",
      "Early stopping, best iteration is:\n",
      "[10597]\tvalid_0's binary_logloss: 0.450851\n",
      "roc_auc_score: 0.8689993726763815\n",
      "--------------------------------------------------\n",
      "Fold: 7\n"
     ]
    },
    {
     "name": "stderr",
     "output_type": "stream",
     "text": [
      "C:\\Users\\Sagar\\anaconda3\\lib\\site-packages\\sklearn\\utils\\validation.py:63: DataConversionWarning: A column-vector y was passed when a 1d array was expected. Please change the shape of y to (n_samples, ), for example using ravel().\n",
      "  return f(*args, **kwargs)\n"
     ]
    },
    {
     "name": "stdout",
     "output_type": "stream",
     "text": [
      "Training until validation scores don't improve for 100 rounds\n",
      "[400]\tvalid_0's binary_logloss: 0.465652\n",
      "[800]\tvalid_0's binary_logloss: 0.463358\n",
      "[1200]\tvalid_0's binary_logloss: 0.462018\n",
      "[1600]\tvalid_0's binary_logloss: 0.460693\n",
      "[2000]\tvalid_0's binary_logloss: 0.459382\n",
      "[2400]\tvalid_0's binary_logloss: 0.458154\n",
      "[2800]\tvalid_0's binary_logloss: 0.457186\n",
      "[3200]\tvalid_0's binary_logloss: 0.45632\n",
      "[3600]\tvalid_0's binary_logloss: 0.455334\n",
      "[4000]\tvalid_0's binary_logloss: 0.454416\n",
      "[4400]\tvalid_0's binary_logloss: 0.453705\n",
      "[4800]\tvalid_0's binary_logloss: 0.452875\n",
      "[5200]\tvalid_0's binary_logloss: 0.452093\n",
      "[5600]\tvalid_0's binary_logloss: 0.451368\n",
      "[6000]\tvalid_0's binary_logloss: 0.450676\n",
      "[6400]\tvalid_0's binary_logloss: 0.449926\n",
      "[6800]\tvalid_0's binary_logloss: 0.449193\n",
      "[7200]\tvalid_0's binary_logloss: 0.448482\n",
      "[7600]\tvalid_0's binary_logloss: 0.447865\n",
      "[8000]\tvalid_0's binary_logloss: 0.447321\n",
      "[8400]\tvalid_0's binary_logloss: 0.446671\n",
      "[8800]\tvalid_0's binary_logloss: 0.446045\n",
      "[9200]\tvalid_0's binary_logloss: 0.445456\n",
      "[9600]\tvalid_0's binary_logloss: 0.444997\n",
      "[10000]\tvalid_0's binary_logloss: 0.444401\n",
      "[10400]\tvalid_0's binary_logloss: 0.443977\n",
      "[10800]\tvalid_0's binary_logloss: 0.443421\n",
      "[11200]\tvalid_0's binary_logloss: 0.442888\n",
      "[11600]\tvalid_0's binary_logloss: 0.442331\n",
      "[12000]\tvalid_0's binary_logloss: 0.441855\n",
      "[12400]\tvalid_0's binary_logloss: 0.441415\n",
      "Early stopping, best iteration is:\n",
      "[12432]\tvalid_0's binary_logloss: 0.44138\n",
      "roc_auc_score: 0.8751930998810517\n",
      "--------------------------------------------------\n",
      "Fold: 8\n"
     ]
    },
    {
     "name": "stderr",
     "output_type": "stream",
     "text": [
      "C:\\Users\\Sagar\\anaconda3\\lib\\site-packages\\sklearn\\utils\\validation.py:63: DataConversionWarning: A column-vector y was passed when a 1d array was expected. Please change the shape of y to (n_samples, ), for example using ravel().\n",
      "  return f(*args, **kwargs)\n"
     ]
    },
    {
     "name": "stdout",
     "output_type": "stream",
     "text": [
      "Training until validation scores don't improve for 100 rounds\n",
      "[400]\tvalid_0's binary_logloss: 0.473204\n",
      "[800]\tvalid_0's binary_logloss: 0.470949\n",
      "[1200]\tvalid_0's binary_logloss: 0.469077\n",
      "[1600]\tvalid_0's binary_logloss: 0.46771\n",
      "[2000]\tvalid_0's binary_logloss: 0.466577\n",
      "[2400]\tvalid_0's binary_logloss: 0.465518\n",
      "[2800]\tvalid_0's binary_logloss: 0.464312\n",
      "[3200]\tvalid_0's binary_logloss: 0.463298\n",
      "[3600]\tvalid_0's binary_logloss: 0.462328\n",
      "[4000]\tvalid_0's binary_logloss: 0.461427\n",
      "[4400]\tvalid_0's binary_logloss: 0.460588\n",
      "[4800]\tvalid_0's binary_logloss: 0.459829\n",
      "[5200]\tvalid_0's binary_logloss: 0.459061\n",
      "[5600]\tvalid_0's binary_logloss: 0.458373\n",
      "[6000]\tvalid_0's binary_logloss: 0.457608\n",
      "[6400]\tvalid_0's binary_logloss: 0.456962\n",
      "[6800]\tvalid_0's binary_logloss: 0.456242\n",
      "[7200]\tvalid_0's binary_logloss: 0.455548\n",
      "[7600]\tvalid_0's binary_logloss: 0.454951\n",
      "[8000]\tvalid_0's binary_logloss: 0.45434\n",
      "[8400]\tvalid_0's binary_logloss: 0.453626\n",
      "[8800]\tvalid_0's binary_logloss: 0.452987\n",
      "[9200]\tvalid_0's binary_logloss: 0.452309\n",
      "[9600]\tvalid_0's binary_logloss: 0.451713\n",
      "[10000]\tvalid_0's binary_logloss: 0.451066\n",
      "[10400]\tvalid_0's binary_logloss: 0.450525\n",
      "[10800]\tvalid_0's binary_logloss: 0.449914\n",
      "[11200]\tvalid_0's binary_logloss: 0.449303\n",
      "Early stopping, best iteration is:\n",
      "[11204]\tvalid_0's binary_logloss: 0.449298\n",
      "roc_auc_score: 0.8704839277856626\n",
      "--------------------------------------------------\n",
      "Fold: 9\n"
     ]
    },
    {
     "name": "stderr",
     "output_type": "stream",
     "text": [
      "C:\\Users\\Sagar\\anaconda3\\lib\\site-packages\\sklearn\\utils\\validation.py:63: DataConversionWarning: A column-vector y was passed when a 1d array was expected. Please change the shape of y to (n_samples, ), for example using ravel().\n",
      "  return f(*args, **kwargs)\n"
     ]
    },
    {
     "name": "stdout",
     "output_type": "stream",
     "text": [
      "Training until validation scores don't improve for 100 rounds\n",
      "[400]\tvalid_0's binary_logloss: 0.471395\n",
      "[800]\tvalid_0's binary_logloss: 0.469515\n",
      "[1200]\tvalid_0's binary_logloss: 0.468008\n",
      "[1600]\tvalid_0's binary_logloss: 0.466687\n",
      "[2000]\tvalid_0's binary_logloss: 0.465406\n",
      "[2400]\tvalid_0's binary_logloss: 0.464397\n",
      "[2800]\tvalid_0's binary_logloss: 0.463388\n",
      "[3200]\tvalid_0's binary_logloss: 0.462416\n",
      "[3600]\tvalid_0's binary_logloss: 0.461614\n",
      "[4000]\tvalid_0's binary_logloss: 0.460715\n",
      "[4400]\tvalid_0's binary_logloss: 0.459966\n",
      "[4800]\tvalid_0's binary_logloss: 0.459157\n",
      "[5200]\tvalid_0's binary_logloss: 0.458406\n",
      "[5600]\tvalid_0's binary_logloss: 0.457628\n",
      "[6000]\tvalid_0's binary_logloss: 0.456796\n",
      "[6400]\tvalid_0's binary_logloss: 0.455956\n",
      "[6800]\tvalid_0's binary_logloss: 0.455104\n",
      "[7200]\tvalid_0's binary_logloss: 0.454413\n",
      "[7600]\tvalid_0's binary_logloss: 0.453804\n",
      "[8000]\tvalid_0's binary_logloss: 0.453122\n",
      "[8400]\tvalid_0's binary_logloss: 0.45244\n",
      "[8800]\tvalid_0's binary_logloss: 0.451923\n",
      "[9200]\tvalid_0's binary_logloss: 0.451252\n",
      "[9600]\tvalid_0's binary_logloss: 0.450714\n",
      "[10000]\tvalid_0's binary_logloss: 0.450158\n",
      "[10400]\tvalid_0's binary_logloss: 0.449516\n",
      "[10800]\tvalid_0's binary_logloss: 0.448895\n",
      "[11200]\tvalid_0's binary_logloss: 0.448425\n",
      "Early stopping, best iteration is:\n",
      "[11235]\tvalid_0's binary_logloss: 0.448369\n",
      "roc_auc_score: 0.8702015701620174\n",
      "--------------------------------------------------\n",
      "Fold: 10\n"
     ]
    },
    {
     "name": "stderr",
     "output_type": "stream",
     "text": [
      "C:\\Users\\Sagar\\anaconda3\\lib\\site-packages\\sklearn\\utils\\validation.py:63: DataConversionWarning: A column-vector y was passed when a 1d array was expected. Please change the shape of y to (n_samples, ), for example using ravel().\n",
      "  return f(*args, **kwargs)\n"
     ]
    },
    {
     "name": "stdout",
     "output_type": "stream",
     "text": [
      "Training until validation scores don't improve for 100 rounds\n",
      "[400]\tvalid_0's binary_logloss: 0.472406\n",
      "[800]\tvalid_0's binary_logloss: 0.470114\n",
      "[1200]\tvalid_0's binary_logloss: 0.468469\n",
      "[1600]\tvalid_0's binary_logloss: 0.467173\n",
      "[2000]\tvalid_0's binary_logloss: 0.46591\n",
      "[2400]\tvalid_0's binary_logloss: 0.464838\n",
      "[2800]\tvalid_0's binary_logloss: 0.463854\n",
      "[3200]\tvalid_0's binary_logloss: 0.462904\n",
      "[3600]\tvalid_0's binary_logloss: 0.461985\n",
      "[4000]\tvalid_0's binary_logloss: 0.460975\n",
      "[4400]\tvalid_0's binary_logloss: 0.460043\n",
      "[4800]\tvalid_0's binary_logloss: 0.45925\n",
      "[5200]\tvalid_0's binary_logloss: 0.458557\n",
      "[5600]\tvalid_0's binary_logloss: 0.457785\n",
      "[6000]\tvalid_0's binary_logloss: 0.457081\n",
      "[6400]\tvalid_0's binary_logloss: 0.456392\n",
      "[6800]\tvalid_0's binary_logloss: 0.455819\n",
      "[7200]\tvalid_0's binary_logloss: 0.455159\n",
      "[7600]\tvalid_0's binary_logloss: 0.454484\n",
      "[8000]\tvalid_0's binary_logloss: 0.453837\n",
      "[8400]\tvalid_0's binary_logloss: 0.453258\n",
      "[8800]\tvalid_0's binary_logloss: 0.452763\n",
      "[9200]\tvalid_0's binary_logloss: 0.452275\n",
      "[9600]\tvalid_0's binary_logloss: 0.451557\n",
      "[10000]\tvalid_0's binary_logloss: 0.451126\n",
      "[10400]\tvalid_0's binary_logloss: 0.450588\n",
      "[10800]\tvalid_0's binary_logloss: 0.449996\n",
      "[11200]\tvalid_0's binary_logloss: 0.449539\n",
      "[11600]\tvalid_0's binary_logloss: 0.449078\n",
      "[12000]\tvalid_0's binary_logloss: 0.448648\n",
      "Early stopping, best iteration is:\n",
      "[11985]\tvalid_0's binary_logloss: 0.448647\n",
      "roc_auc_score: 0.8703051436541467\n",
      "--------------------------------------------------\n"
     ]
    }
   ],
   "source": [
    "lgb_model_cross_val = cross_val(X_sampled, y_sampled, LGBMClassifier, lgb_params)"
   ]
  },
  {
   "cell_type": "code",
   "execution_count": 49,
   "metadata": {},
   "outputs": [],
   "source": [
    "y_pred_cross_val = lgb_model_cross_val.predict_proba(test_scaled_lben)[:,1]"
   ]
  },
  {
   "cell_type": "code",
   "execution_count": 50,
   "metadata": {},
   "outputs": [],
   "source": [
    "pred = pd.DataFrame(y_pred_cross_val)\n",
    "sub_df = pd.read_csv('sample_submission_1.csv')\n",
    "datasets = pd.concat([sub_df['ID'],pred],axis=1)\n",
    "datasets.columns = ['ID','Is_Lead']\n",
    "datasets.to_csv('sample_submission_lightgbm_cross_val.csv',index=False)"
   ]
  },
  {
   "cell_type": "code",
   "execution_count": null,
   "metadata": {},
   "outputs": [],
   "source": []
  },
  {
   "cell_type": "code",
   "execution_count": null,
   "metadata": {},
   "outputs": [],
   "source": []
  },
  {
   "cell_type": "code",
   "execution_count": null,
   "metadata": {},
   "outputs": [],
   "source": []
  },
  {
   "cell_type": "code",
   "execution_count": null,
   "metadata": {},
   "outputs": [],
   "source": []
  }
 ],
 "metadata": {
  "kernelspec": {
   "display_name": "Python 3",
   "language": "python",
   "name": "python3"
  },
  "language_info": {
   "codemirror_mode": {
    "name": "ipython",
    "version": 3
   },
   "file_extension": ".py",
   "mimetype": "text/x-python",
   "name": "python",
   "nbconvert_exporter": "python",
   "pygments_lexer": "ipython3",
   "version": "3.8.3"
  }
 },
 "nbformat": 4,
 "nbformat_minor": 4
}
